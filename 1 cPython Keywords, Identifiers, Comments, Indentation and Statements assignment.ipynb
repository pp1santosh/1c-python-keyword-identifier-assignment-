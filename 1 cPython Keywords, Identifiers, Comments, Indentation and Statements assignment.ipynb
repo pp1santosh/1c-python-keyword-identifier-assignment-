{
 "cells": [
  {
   "cell_type": "code",
   "execution_count": null,
   "id": "a13b0b60",
   "metadata": {},
   "outputs": [],
   "source": [
    "#1.sol ans\n",
    "\"\"\" Keywords in Python are special reserved predefined\n",
    "words that have a special meaning to the interpreter and should not be used as identifier.\"\"\"\n",
    "# 5 example of keyword\"\n",
    "\"\"\"\"\n",
    "and-A logical operator\n",
    "break\t-To break out of a loop\n",
    "continue\t-To continue to the next iteration of a loop\n",
    "def\t-To define a function\n",
    "if\t-To make a conditional statement\"\"\"\n",
    "\n"
   ]
  },
  {
   "cell_type": "code",
   "execution_count": 1,
   "id": "3380bb29",
   "metadata": {},
   "outputs": [
    {
     "name": "stdout",
     "output_type": "stream",
     "text": [
      "5 John 3.8 nitu (3+4j) 61\n"
     ]
    }
   ],
   "source": [
    "#2 sol ans\n",
    "\"\"\"Python Identifier is the name we give to identify a variable, \n",
    "function, class, module or other object.\"\"\"\n",
    "# Rules for defining identifier\n",
    "\"\"\"\"\n",
    "\n",
    "1.A variable name must start with a letter or the underscore character\n",
    "\n",
    "2.A variable name cannot start with a number\n",
    "3.A variable name can only contain alpha-numeric characters and underscores (A-z, 0-9, and _ )\n",
    "4.Variable names are case-sensitive. \n",
    "5.A variable name cannot be any of the Python keywords.\"\"\"\n",
    "#example \n",
    "myvar = 5\n",
    "my_var = \"John\"\n",
    "_my_var = 3.8\n",
    "myVar = \"nitu\"\n",
    "MYVAR = 3+4j\n",
    "myvar2 = 61\n",
    "\n",
    "print(myvar,my_var,_my_var,myVar,MYVAR,myvar2)\n",
    "\n",
    "\n",
    "\n",
    "\n",
    "\n",
    "\n"
   ]
  },
  {
   "cell_type": "code",
   "execution_count": null,
   "id": "61f8e6ac",
   "metadata": {},
   "outputs": [],
   "source": [
    "#3 sol\n",
    "\"\"\"\" Comments in Python are the lines in the code that are ignored by \n",
    "the interpreter during the execution of the program.\n",
    "it is used to describe code and increase readibility\"\"\"\n",
    "a=5 # asigning value to a variable\n",
    "print(a) #prints value of variable a\n",
    "\"\"\" it is a docstring statement\n",
    "with multiple lines\"\"\"\n",
    "\n",
    "\n"
   ]
  },
  {
   "cell_type": "code",
   "execution_count": 1,
   "id": "12096d44",
   "metadata": {},
   "outputs": [
    {
     "name": "stdout",
     "output_type": "stream",
     "text": [
      "enter you marks in math34\n",
      "fail\n"
     ]
    }
   ],
   "source": [
    "#4 sol\n",
    "\"\"\"Indentation refers to adding the relevant number of tabs and \n",
    "spaces at the beginning of lines of code to indicate a block of code in Python.\"\"\"\n",
    "#example\n",
    "x=int(input(\"enter you marks in math\"))\n",
    "if x>35:\n",
    "    print(\"PASS\") #here indentation define scope of this code\n",
    "else:\n",
    "    print(\"fail\")"
   ]
  },
  {
   "cell_type": "code",
   "execution_count": 2,
   "id": "b60f4592",
   "metadata": {},
   "outputs": [
    {
     "ename": "IndentationError",
     "evalue": "expected an indented block (1057669577.py, line 3)",
     "output_type": "error",
     "traceback": [
      "\u001b[1;36m  File \u001b[1;32m\"C:\\Users\\Hp\\AppData\\Local\\Temp\\ipykernel_3304\\1057669577.py\"\u001b[1;36m, line \u001b[1;32m3\u001b[0m\n\u001b[1;33m    print(\"Number is less than 7\")\u001b[0m\n\u001b[1;37m    ^\u001b[0m\n\u001b[1;31mIndentationError\u001b[0m\u001b[1;31m:\u001b[0m expected an indented block\n"
     ]
    }
   ],
   "source": [
    "#5 sol\n",
    "\"\"\" if indentation is incorrect in Python  the overall code will not run and\n",
    "the interpreter will simply return IndentationErrormessage\"\"\"\n",
    "#example\n",
    "if a < 7:\n",
    "print(\"Number is less than 7\")\n"
   ]
  },
  {
   "cell_type": "code",
   "execution_count": 3,
   "id": "153b1a82",
   "metadata": {},
   "outputs": [
    {
     "name": "stdout",
     "output_type": "stream",
     "text": [
      "hello this is python statement\n",
      "result= 30\n"
     ]
    }
   ],
   "source": [
    "#6 sol python statement\n",
    "\"\"\" A Python statement is an instruction that the Python interpreter can execute.\n",
    "The Python language has many different types of statements like assignment statements, \n",
    "conditional statements, looping statements, etc\"\"\"\n",
    "print(\"hello this is python statement\")\n",
    "# python expression\n",
    "\"\"\"An expression is a combination of operators and operands that is interpreted\n",
    "to produce some other value.\"\"\"\n",
    "a=10 #statement\n",
    "b=20 #statement\n",
    "c=a+b #expression\n",
    "print(\"result=\",c)\n",
    "\n"
   ]
  },
  {
   "cell_type": "code",
   "execution_count": null,
   "id": "a39b3248",
   "metadata": {},
   "outputs": [],
   "source": []
  }
 ],
 "metadata": {
  "kernelspec": {
   "display_name": "Python 3 (ipykernel)",
   "language": "python",
   "name": "python3"
  },
  "language_info": {
   "codemirror_mode": {
    "name": "ipython",
    "version": 3
   },
   "file_extension": ".py",
   "mimetype": "text/x-python",
   "name": "python",
   "nbconvert_exporter": "python",
   "pygments_lexer": "ipython3",
   "version": "3.9.13"
  }
 },
 "nbformat": 4,
 "nbformat_minor": 5
}
